{
 "cells": [
  {
   "cell_type": "markdown",
   "metadata": {},
   "source": [
    "# Hello World !"
   ]
  },
  {
   "cell_type": "code",
   "execution_count": 6,
   "metadata": {},
   "outputs": [],
   "source": [
    "import math\n",
    "import numpy as np"
   ]
  },
  {
   "cell_type": "markdown",
   "metadata": {},
   "source": [
    "# A.Calcul de l'entropie\n",
    "\n",
    "## A.1 Formule de l'entropie\n",
    "\n",
    "$$ H = - \\sum\\_{i=1}^{n} p_i \\log_2 p_i $$"
   ]
  },
  {
   "cell_type": "code",
   "execution_count": 7,
   "metadata": {},
   "outputs": [
    {
     "name": "stdout",
     "output_type": "stream",
     "text": [
      "Entropie de Shannon pour 'abracadabra' : 2.0403733936884962\n"
     ]
    }
   ],
   "source": [
    "\"\"\"\n",
    "Entropy method but here we treat the null probabilities\n",
    "\"\"\"\n",
    "def shannon_entropy(probabilities):\n",
    "    entropy = 0\n",
    "    for p in probabilities:\n",
    "        if p > 0:\n",
    "            entropy -= p * math.log2(p)\n",
    "    return entropy\n",
    "\n",
    "def calculate_probabilities(text):\n",
    "    total_chars = len(text)\n",
    "    char_counts = {}\n",
    "    for char in text:\n",
    "        char_counts[char] = char_counts.get(char, 0) + 1\n",
    "    probabilities = [count / total_chars for count in char_counts.values()]\n",
    "    return probabilities\n",
    "\n",
    "word = \"abracadabra\"\n",
    "probabilities = calculate_probabilities(word)\n",
    "entropy = shannon_entropy(probabilities)\n",
    "print(\"Entropie de Shannon pour '{}' : {}\".format(word, entropy))\n"
   ]
  },
  {
   "cell_type": "markdown",
   "metadata": {},
   "source": [
    "# B. Calcul de la complexité\n",
    "\n",
    "## B.1 Formule de la complexité\n",
    "\n",
    "$$ C = \\log_2 \\left( \\frac{1}{p} \\right) $$\n"
   ]
  },
  {
   "cell_type": "code",
   "execution_count": null,
   "metadata": {},
   "outputs": [],
   "source": [
    "\"\"\"\n",
    "Complexity method\n",
    "\"\"\"\n",
    "def calculate_complexity(text):\n",
    "    total_chars = len(text)\n",
    "    char_counts = {}\n",
    "    for char in text:\n",
    "        char_counts[char] = char_counts.get(char, 0) + 1\n",
    "    complexity = len(char_counts) / total_chars\n",
    "    return complexity\n",
    "\n",
    "word = \"abracadabra\"\n",
    "complexity = calculate_complexity(word)\n",
    "print(\"Complexité pour '{}' : {}\".format(word, complexity))"
   ]
  },
  {
   "cell_type": "markdown",
   "metadata": {},
   "source": [
    "# C. Générateur congruentiel linéaire\n",
    "\n",
    "## C.1 Formule du générateur congruentiel linéaire\n",
    "\n",
    "$$ x_{n+1} = (a x_n + c) \\mod m $$\n"
   ]
  },
  {
   "cell_type": "code",
   "execution_count": null,
   "metadata": {},
   "outputs": [],
   "source": [
    "def lcg_lehman(seed, a = 3, c = 0, m = 2**8):\n",
    "    \"\"\"Lehman 1951 LCG generator\"\"\"\n",
    "    while True:\n",
    "        # multiply by 3 to get next value from previous\n",
    "        seed = (a * seed + c) % m\n",
    "        yield seed\n",
    "\n",
    "# seed generator with val: 1 and print first 100 values with a = 3, c = 0, m = 2**8 = 256 to get a 8-bit number\n",
    "lehman = lcg_lehman(1)\n",
    "print(', '.join([str(next(lehman)) for x in range(0, 100)]))"
   ]
  },
  {
   "cell_type": "markdown",
   "metadata": {},
   "source": [
    "## C.2 Fonction de génération de nombres aléatoires LCG Drand48"
   ]
  },
  {
   "cell_type": "code",
   "execution_count": null,
   "metadata": {},
   "outputs": [],
   "source": [
    "def lcg_drand48(seed):\n",
    "    \"\"\"drand48 1983 LCG generator\"\"\"\n",
    "    while True:\n",
    "        # wrap int around to have max 48 bits\n",
    "        seed = (seed * 252149039917 + 11) & (2**48 - 1)\n",
    "        # don't output the seed but a function on it\n",
    "        yield seed >> 16"
   ]
  }
 ],
 "metadata": {
  "kernelspec": {
   "display_name": "Python 3",
   "language": "python",
   "name": "python3"
  },
  "language_info": {
   "codemirror_mode": {
    "name": "ipython",
    "version": 3
   },
   "file_extension": ".py",
   "mimetype": "text/x-python",
   "name": "python",
   "nbconvert_exporter": "python",
   "pygments_lexer": "ipython3",
   "version": "3.10.12"
  }
 },
 "nbformat": 4,
 "nbformat_minor": 2
}
