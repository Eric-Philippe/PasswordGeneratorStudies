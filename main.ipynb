{
 "cells": [
  {
   "cell_type": "markdown",
   "metadata": {},
   "source": [
    "# Hello World !"
   ]
  },
  {
   "cell_type": "code",
   "execution_count": 3,
   "metadata": {},
   "outputs": [
    {
     "name": "stdout",
     "output_type": "stream",
     "text": [
      "Hello World !\n",
      "[0.5488135  0.71518937 0.60276338]\n"
     ]
    }
   ],
   "source": [
    "import math\n",
    "import numpy as np"
   ]
  },
  {
   "cell_type": "markdown",
   "metadata": {},
   "source": [
    "# A.Calcul de l'entropie\n",
    "\n",
    "## A.1 Formule de l'entropie\n",
    "\n",
    "$$ H = - \\sum\\_{i=1}^{n} p_i \\log_2 p_i $$"
   ]
  },
  {
   "cell_type": "code",
   "execution_count": 3,
   "metadata": {},
   "outputs": [
    {
     "name": "stdout",
     "output_type": "stream",
     "text": [
      "Entropie de Shannon pour 'abracadabra' : 2.0403733936884962\n"
     ]
    }
   ],
   "source": [
    "\"\"\"\n",
    "Entropy method but here we treat the null probabilities\n",
    "\"\"\"\n",
    "def shannon_entropy(probabilities):\n",
    "    entropy = 0\n",
    "    for p in probabilities:\n",
    "        if p > 0:\n",
    "            entropy -= p * math.log2(p)\n",
    "    return entropy\n",
    "\n",
    "def calculate_probabilities(text):\n",
    "    total_chars = len(text)\n",
    "    char_counts = {}\n",
    "    for char in text:\n",
    "        char_counts[char] = char_counts.get(char, 0) + 1\n",
    "    probabilities = [count / total_chars for count in char_counts.values()]\n",
    "    return probabilities\n",
    "\n",
    "word = \"abracadabra\"\n",
    "probabilities = calculate_probabilities(word)\n",
    "entropy = shannon_entropy(probabilities)\n",
    "print(\"Entropie de Shannon pour '{}' : {}\".format(word, entropy))\n"
   ]
  }
 ],
 "metadata": {
  "kernelspec": {
   "display_name": "Python 3",
   "language": "python",
   "name": "python3"
  },
  "language_info": {
   "codemirror_mode": {
    "name": "ipython",
    "version": 3
   },
   "file_extension": ".py",
   "mimetype": "text/x-python",
   "name": "python",
   "nbconvert_exporter": "python",
   "pygments_lexer": "ipython3",
   "version": "3.10.12"
  }
 },
 "nbformat": 4,
 "nbformat_minor": 2
}
