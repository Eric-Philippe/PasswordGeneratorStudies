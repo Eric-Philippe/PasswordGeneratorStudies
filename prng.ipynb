{
 "cells": [
  {
   "cell_type": "markdown",
   "metadata": {},
   "source": [
    "## Linear Congruential Generators (LCGs)\n",
    "\n",
    "Linear Congruential Generators (LCGs) are one of the oldest PRNGs and fortunately pretty simple to understand.\n",
    "\n",
    "to get the next number in the sequence we take the previous number and:\n",
    "- multiply it by some constant a\n",
    "- add some other constant c to it\n",
    "- take the remainder when we divide by some other constant m\n",
    "\n",
    "$$ x_{n+1} = (a x_n + c) \\mod m $$"
   ]
  },
  {
   "cell_type": "code",
   "execution_count": 2,
   "metadata": {},
   "outputs": [
    {
     "name": "stdout",
     "output_type": "stream",
     "text": [
      "3, 9, 27, 81, 243, 217, 139, 161, 227, 169, 251, 241, 211, 121, 107, 65, 195, 73, 219, 145, 179, 25, 75, 225, 163, 233, 187, 49, 147, 185, 43, 129, 131, 137, 155, 209, 115, 89, 11, 33, 99, 41, 123, 113, 83, 249, 235, 193, 67, 201, 91, 17, 51, 153, 203, 97, 35, 105, 59, 177, 19, 57, 171, 1, 3, 9, 27, 81, 243, 217, 139, 161, 227, 169, 251, 241, 211, 121, 107, 65, 195, 73, 219, 145, 179, 25, 75, 225, 163, 233, 187, 49, 147, 185, 43, 129, 131, 137, 155, 209\n"
     ]
    }
   ],
   "source": [
    "def lcg_lehman(seed, a = 3, c = 0, m = 2**8):\n",
    "    \"\"\"Lehman 1951 LCG generator\"\"\"\n",
    "    while True:\n",
    "        # multiply by 3 to get next value from previous\n",
    "        seed = (a * seed + c) % m\n",
    "        yield seed\n",
    "\n",
    "# seed generator with val: 1 and print first 100 values with a = 3, c = 0, m = 2**8 = 256 to get a 8-bit number\n",
    "lehman = lcg_lehman(1)\n",
    "print(', '.join([str(next(lehman)) for x in range(0, 100)]))"
   ]
  },
  {
   "cell_type": "markdown",
   "metadata": {},
   "source": [
    "With this LCG we can see some problems:\n",
    "- all the numbers are odd so we’re not uniformly touching all numbers at all (any observable pattern being the antithesis of randomness)\n",
    "- the period is short — you can see around half way through we get back to the start and then begin repeating ourselves\n",
    "\n",
    "All of these problems comes with the parameters we gave him, below is the `drand48` LCG which is by `java.utils.Random`"
   ]
  },
  {
   "cell_type": "code",
   "execution_count": null,
   "metadata": {},
   "outputs": [],
   "source": [
    "def lcg_drand48(seed):\n",
    "    \"\"\"drand48 1983 LCG generator\"\"\"\n",
    "    while True:\n",
    "        # wrap int around to have max 48 bits\n",
    "        seed = (seed * 252149039917 + 11) & (2**48 - 1)\n",
    "        # don't output the seed but a function on it\n",
    "        yield seed >> 16"
   ]
  },
  {
   "cell_type": "markdown",
   "metadata": {},
   "source": [
    "In the drand48 LCG we don't just get the next number in the sequence, here we shifts all the bits 16 places to the right with the right-most 16-bits getting dropped as a result.\n",
    "\n",
    "Exemple of bit shift:\n",
    "    if we have `1017 >> 3`, 1017 is 11 1111 1001 in binary and with the shift we end up with 111 1111 which is 127\n",
    "\n",
    "The bit shift operations helps up to have a 16-bit generator with a 8-bit output"
   ]
  },
  {
   "cell_type": "markdown",
   "metadata": {},
   "source": [
    "## PCG (Permuted Congruential Generator)\n",
    "\n",
    "In Numpy 1.17, the notion of PCGs was introduced with an algorithm called Mersenne Twister, specifically the MT19937 variant. This is a 32-bit generator with a 32-bit output.\n",
    "\n",
    "The idea behind PCG is:\n",
    "- outputting a function of the state, rather than the state directly, seems to increase randomness\n",
    "- LCGs clearly lack randomness in the lower bits (top left chart), but the higher bits tend to be ‘more random’ (bottom right chart)\n",
    "- if we have e.g. a 16-bit state outputting an 8-bit number, then we only need to choose 8 bits to output\n",
    "- why don’t we use the top few bits of the 16-bit state, which are the most random, to choose which function we apply to the remainder of the 16-bit state to generate the 8-bit output\n",
    "- in other words, let’s use the most random part of our state to randomly select a transform function to apply to the rest of the state — a randomised algorithm of sorts\n"
   ]
  }
 ],
 "metadata": {
  "kernelspec": {
   "display_name": "Python 3",
   "language": "python",
   "name": "python3"
  },
  "language_info": {
   "codemirror_mode": {
    "name": "ipython",
    "version": 3
   },
   "file_extension": ".py",
   "mimetype": "text/x-python",
   "name": "python",
   "nbconvert_exporter": "python",
   "pygments_lexer": "ipython3",
   "version": "3.10.12"
  }
 },
 "nbformat": 4,
 "nbformat_minor": 2
}
