{
 "cells": [
  {
   "cell_type": "markdown",
   "metadata": {},
   "source": [
    "# Compte-Rendu\n",
    "\n",
    "## 1. Introduction\n",
    "\n",
    "### 1.1\n",
    "\n",
    "Ce document relate le compte-rendu du sujet de Modélisation Mathématiques de la troisième année de BUT Informatique de l'IUT de Blagnac.\n",
    "Il sera appuyé par le fichier `main.ipynb` qui contient toutes les sources utilisées pour la réalisation de ce document.\n",
    "\n",
    "### 1.2 Consignes\n",
    "\n",
    "Vous étudierez les bonnes pratiques au quotidien sur les mots de passe avec une présentation rapide d’outils de gestions comme KeePass et de plugin de navigateurs utiles.\n",
    "\n",
    "Vous aborderez ensuite la notion de robustesse de ceux-ci avec les notions d’entropie et complexité.\n",
    "\n",
    "Vous présenterez les principaux générateurs de nombres pseudo-aléatoires en donnant des exemples concrets dans des langages comme Python, Java ou encore des frameworks connus. Vous aborderez aussi la génération de nombres aléatoires dans les systèmes d’exploitation avec /dev/random et /dev/urandom sous Linux (voir https://lwn.net/Kernel/Index/#Random_numbers et https://www.2uo.de/myths-about-urandom/).\n",
    "\n",
    "Vous expliquerez et conduirez des tests statistiques pour qualifier les nombres obtenus. Vous aborderez le test du khi-deux déjà vu en probas mais aussi d’autres."
   ]
  },
  {
   "cell_type": "code",
   "execution_count": 6,
   "metadata": {},
   "outputs": [],
   "source": [
    "import math\n",
    "import numpy as np\n"
   ]
  },
  {
   "cell_type": "markdown",
   "metadata": {},
   "source": [
    "## 2. Sommaire"
   ]
  },
  {
   "cell_type": "markdown",
   "metadata": {},
   "source": [
    "## 3. Bonne pratiques du quotidien..\n",
    "\n",
    "### 3.1 .. en tant qu'utilisateur non aguerri\n",
    "\n",
    "#### 3.1.1. Les pratiques à éviter\n",
    "\n",
    "| Pratique                                             | Explication                                                | Exemple                                                                       |\n",
    "| ---------------------------------------------------- | ---------------------------------------------------------- | ----------------------------------------------------------------------------- |\n",
    "| Utiliser le même mot de passe pour plusieurs comptes | Si un compte est compromis, tous les autres le sont aussi  | Utiliser le même mot de passe pour son compte Facebook et son compte bancaire |\n",
    "| Utiliser des mots de passe trop simples              | Les mots de passe simples sont plus facilement crackés     | Utiliser le mot de passe `\"password\"` pour ses comptes                        |\n",
    "| Utiliser des mots de passe trop courts               | Les mots de passe courts sont plus facilement crackés      | Utiliser le mot de passe `\"salut\"` pour ses comptes                           |\n",
    "| Utiliser des patterns dans les mots de passe         | Les patterns sont plus facilement crackés                  | Utiliser le mot de passe `\"123456\"` pour ses comptes                          |\n",
    "| Utiliser des dates dans les mots de passe            | Les dates sont plus facilement crackés                     | Utiliser le mot de passe `\"1998\"` pour ses comptes                            |\n",
    "| Utiliser des informations personnelles               | Les informations personnelles sont plus facilement crackés | Utiliser le mot de passe `\"prenom.nom\"` pour ses comptes                      |\n",
    "\n",
    "#### 3.1.2. Les pratiques à adopter\n",
    "\n",
    "| Pratique                                       | Explication                                                                       | Exemple                                                                                                     |\n",
    "| ---------------------------------------------- | --------------------------------------------------------------------------------- | ----------------------------------------------------------------------------------------------------------- |\n",
    "| Utiliser un générateur de mot de passe         | Les générateurs de mot de passe génèrent des mots de passe aléatoires             | Utiliser des services navigateurs comme Firefox Lockwise ou des services en ligne comme LastPass ou KeePass |\n",
    "| Utiliser un gestionnaire de mot de passe       | Les gestionnaires de mot de passe stockent les mots de passe de manière sécurisée | Utiliser différents services comme Dashlane, LastPass ou KeePass                                            |\n",
    "| Utiliser la double authentification            | La double authentification permet de sécuriser les comptes                        | Utiliser la double authentification à l'aide de services comme Authy ou Google Authenticator                |\n",
    "| Faire un mot de passe de plus de 12 caractères | Les mots de passe longs sont plus difficiles à crackés                            | Utiliser des mots de passe de plus de 12 caractères                                                         |\n",
    "\n",
    "### 3.2 Présentation d'outils de gestion\n",
    "\n",
    "#### 3.2.1 KeePass\n",
    "\n",
    "KeePass est un gestionnaire de mot de passe open-source. Il permet de stocker des mots de passe de manière sécurisée dans une base de données chiffrée. Il est disponible sur Windows, Linux, macOS, Android et iOS.\n",
    "\n",
    "##### 3.2.1.1 Technologies utilisées\n",
    "\n",
    "KeePass est écrit en C# et utilise le framework .NET. Il utilise le chiffrement AES et Twofish pour chiffrer les bases de données.\n",
    "\n",
    "**Qu'est ce que le chiffrement AES ?**\n",
    "\n",
    "L'AES (Advanced Encryption Standard) est un algorithme de chiffrement symétrique. Il est utilisé pour chiffrer les données de la base de données de KeePass.\n",
    "\n",
    "**Comment fonctionne l'AES ?**\n",
    "\n",
    "L'AES fonctionne par blocs de 128 bits. Il utilise une clé de 128, 192 ou 256 bits. Il utilise 10, 12 ou 14 tours de chiffrement en fonction de la taille de la clé."
   ]
  },
  {
   "cell_type": "markdown",
   "metadata": {},
   "source": [
    "```python\n",
    "def aes_encrypt(data, key):\n",
    "    # Split data into 128-bit blocks\n",
    "    blocks = split_into_blocks(data, 128)\n",
    "\n",
    "    # Generate round keys\n",
    "    round_keys = generate_round_keys(key)\n",
    "\n",
    "    # Perform 10 rounds of encryption\n",
    "    for i in range(10):\n",
    "        # Perform SubBytes\n",
    "        blocks = sub_bytes(blocks)\n",
    "\n",
    "        # Perform ShiftRows\n",
    "        blocks = shift_rows(blocks)\n",
    "\n",
    "        # Perform MixColumns\n",
    "        blocks = mix_columns(blocks)\n",
    "\n",
    "        # Perform AddRoundKey\n",
    "        blocks = add_round_key(blocks, round_keys[i])\n",
    "\n",
    "    # Perform SubBytes\n",
    "    blocks = sub_bytes(blocks)\n",
    "\n",
    "    # Perform ShiftRows\n",
    "    blocks = shift_rows(blocks)\n",
    "\n",
    "    # Perform AddRoundKey\n",
    "    blocks = add_round_key(blocks, round_keys[10])\n",
    "\n",
    "    # Join blocks\n",
    "    return join_blocks(blocks)\n",
    "    ```"
   ]
  },
  {
   "cell_type": "markdown",
   "metadata": {},
   "source": [
    "#### 3.2.2 Firefox Lockwise\n",
    "\n",
    "Firefox Lockwise est un gestionnaire de mot de passe intégré à Firefox. Il permet de stocker des mots de passe de manière sécurisée dans une base de données chiffrée. Il est disponible sur Windows, Linux, macOS, Android et iOS. La base de données est chiffrée avec AES-256.\n",
    "\n",
    "#### 3.2.3 Dashlane\n",
    "\n",
    "Dashlane est un gestionnaire de mot de passe propriétaire. Il permet de stocker des mots de passe de manière sécurisée dans une base de données chiffrée. Il est disponible sur Windows, Linux, macOS, Android et iOS.\n",
    "La base de données est chiffrée également avec AES-256.\n",
    "\n",
    "_On remarque que le chiffrement AES, particulièrement AES-256, est très utilisé dans les gestionnaires de mot de passe._"
   ]
  },
  {
   "cell_type": "markdown",
   "metadata": {},
   "source": [
    "## 4. Robustesse des mots de passe\n",
    "\n",
    "### 4.1 Introduction\n",
    "\n",
    "Dans la plupart des cas, les mots de passe sont stockés dans une base de données. Il est donc important de les chiffrer pour éviter qu'ils ne soient compromis en cas de fuite de données. De ce postulat on hash les mots de passe. La quasi-totalité des librairies fournissant des méthodes pour hasher un mot de passe ne fournissent que une méthode pour hasher un mot de passe, et une seconde pour comparer un texte avec un hash. L'encryption n'est alord qu'unilatérale, on ne peut pas décrypter un hash pour retrouver le mot de passe.\n",
    "\n",
    "**Exemple :**"
   ]
  },
  {
   "cell_type": "code",
   "execution_count": 7,
   "metadata": {
    "vscode": {
     "languageId": "javascript"
    }
   },
   "outputs": [
    {
     "ename": "SyntaxError",
     "evalue": "invalid syntax (2387301270.py, line 1)",
     "output_type": "error",
     "traceback": [
      "\u001b[0;36m  Cell \u001b[0;32mIn[7], line 1\u001b[0;36m\u001b[0m\n\u001b[0;31m    const bcrypt = require(\"bcrypt\");\u001b[0m\n\u001b[0m          ^\u001b[0m\n\u001b[0;31mSyntaxError\u001b[0m\u001b[0;31m:\u001b[0m invalid syntax\n"
     ]
    }
   ],
   "source": [
    "const bcrypt = require(\"bcrypt\");\n",
    "\n",
    "// Le salage rajoute une information aléatoire au mot de passe pour éviter les attaques par dictionnaire\n",
    "const saltRounds = 10;\n",
    "const myPassword = \"password\";\n",
    "\n",
    "// Hash le mot de passe\n",
    "const hash = bcrypt.hashSync(myPassword, saltRounds);\n",
    "\n",
    "// Compare le mot de passe avec le hash\n",
    "const isTheGoodPassword = bcrypt.compareSync(myPassword, hash);"
   ]
  },
  {
   "cell_type": "code",
   "execution_count": null,
   "metadata": {
    "vscode": {
     "languageId": "javascript"
    }
   },
   "outputs": [],
   "source": [
    "/**\n",
    " * @Notice\n",
    " * La méthode `compare` agit uniquement en tant que raccourcis à un code équivalent à:\n",
    " */\n",
    "const compareSyncSimplified = function(hashedPass, pass) {\n",
    "    const hashedInput = bcrypt.hashSync(pass, saltRounds);\n",
    "    // Retourne true si les deux hash sont identiques\n",
    "    return hashedInput === hashedPass;\n",
    "}"
   ]
  },
  {
   "cell_type": "markdown",
   "metadata": {},
   "source": [
    "### 4.2 Entropie\n",
    "\n",
    "#### 4.2.1 Définition\n",
    "\n",
    "L'entropie est une mesure de la quantité d'information contenue dans un message. Elle est exprimée en bits. Plus un message est complexe, plus son entropie est élevée.\n",
    "\n",
    "#### 4.2.2 Calcul de l'entropie\n",
    "\n",
    "L'entropie d'un message peut être calculée à l'aide de la formule suivante :\n",
    "\n",
    "$$ H = - \\sum\\_{i=1}^{n} p_i \\log_2 p_i $$\n",
    "\n",
    "Où $p_i$ est la probabilité d'apparition du symbole $i$ dans le message.\n",
    "\n",
    "#### 4.2.3 Exemple\n",
    "\n",
    "Soit le message suivant :\n",
    "\n",
    "$$ M = \"abracadabra\" $$\n",
    "$$ n = 11 $$\n",
    "$$ p*a = \\frac{5}{11} $$\n",
    "$$ p_b = \\frac{2}{11} $$\n",
    "$$ p_c = \\frac{1}{11} $$\n",
    "$$ p_d = \\frac{1}{11} $$\n",
    "$$ p_r = \\frac{2}{11} $$\n",
    "$$ p*{\\text{espace}} = \\frac{0}{11} $$\n",
    "$$ p\\_{\\text{autres}} = \\frac{0}{11} $$\n",
    "\n",
    "$$ H = - \\sum\\_{i=1}^{n} p_i \\log_2 p_i $$\n",
    "\n",
    "$$ H = - \\left( \\frac{5}{11} \\log_2 \\frac{5}{11} + \\frac{2}{11} \\log_2 \\frac{2}{11} + \\frac{1}{11} \\log_2 \\frac{1}{11} + \\frac{1}{11} \\log_2 \\frac{1}{11} + \\frac{2}{11} \\log_2 \\frac{2}{11} + \\frac{0}{11} \\log_2 \\frac{0}{11} + \\frac{0}{11} \\log_2 \\frac{0}{11} \\right) $$\n",
    "\n",
    "$$ H = - \\left( \\frac{5}{11} \\times -2.3219 + \\frac{2}{11} \\times -2.8074 + \\frac{1}{11} \\times -3.3219 + \\frac{1}{11} \\times -3.3219 + \\frac{2}{11} \\times -2.8074 + \\frac{0}{11} \\times -\\infty + \\frac{0}{11} \\times -\\infty \\right) $$\n",
    "\n",
    "$$ H = - \\left( -1.0608 - 0.5116 - 0.3019 - 0.3019 - 0.5116 \\right) $$\n",
    "\n",
    "$$ H = - \\left( -2.6878 \\right) $$\n",
    "\n",
    "$$ H = 2.6878 $$\n",
    "\n",
    "L'entropie du message $M$ est de $2.6878$ bits.\n",
    "\n",
    "**Ordre de grandeur de l'entropie**\n",
    "\n",
    "| Entropie | Exemple                                                                        |\n",
    "| -------- | ------------------------------------------------------------------------------ |\n",
    "| 0        | Message composé d'un seul symbole                                              |\n",
    "| 1        | Message composé de deux symboles ayant la même probabilité d'apparition        |\n",
    "| 2        | Message composé de quatre symboles ayant la même probabilité d'apparition      |\n",
    "| 3        | Message composé de huit symboles ayant la même probabilité d'apparition        |\n",
    "| 4        | Message composé de seize symboles ayant la même probabilité d'apparition       |\n",
    "| 5        | Message composé de trente-deux symboles ayant la même probabilité d'apparition |\n",
    "\n",
    "Donc notre message $M$ a une entropie de $2.6878$ bits, ce qui est relativement faible.\n",
    "\n",
    "#### 4.2.4 Entropie de Shannon\n",
    "\n",
    "L'entropie de Shannon est une mesure de l'entropie d'un message. Elle est exprimée en bits. Plus un message est complexe, plus son entropie de Shannon est élevée. elle gère également le cas où un symbole n'apparait pas dans le message, c'est à dire un cas il exclut les termes relatifs aux caractères absents."
   ]
  },
  {
   "cell_type": "code",
   "execution_count": null,
   "metadata": {},
   "outputs": [],
   "source": [
    "\"\"\"\n",
    "Entropy method but here we treat the null probabilities\n",
    "\"\"\"\n",
    "def shannon_entropy(probabilities):\n",
    "    entropy = 0\n",
    "    for p in probabilities:\n",
    "        if p > 0:\n",
    "            entropy -= p * math.log2(p)\n",
    "    return entropy\n",
    "\n",
    "def calculate_probabilities(text):\n",
    "    total_chars = len(text)\n",
    "    char_counts = {}\n",
    "    for char in text:\n",
    "        char_counts[char] = char_counts.get(char, 0) + 1\n",
    "    probabilities = [count / total_chars for count in char_counts.values()]\n",
    "    return probabilities\n",
    "\n",
    "word = \"abracadabra\"\n",
    "probabilities = calculate_probabilities(word)\n",
    "entropy = shannon_entropy(probabilities)\n",
    "print(\"Entropie de Shannon pour '{}' : {}\".format(word, entropy))"
   ]
  },
  {
   "cell_type": "markdown",
   "metadata": {},
   "source": [
    "### 4.3 Complexité\n",
    "\n",
    "#### 4.3.1 Définition\n",
    "\n",
    "La complexité d'un mot de passe est une mesure de la difficulté à le deviner. Elle est exprimée en bits. Plus un mot de passe est complexe, plus sa complexité est élevée.\n",
    "\n",
    "#### 4.3.2 Calcul de la complexité\n",
    "\n",
    "La complexité d'un mot de passe peut être calculée à l'aide de la formule suivante :\n",
    "\n",
    "$$ C = \\log_2 \\left( \\frac{1}{p} \\right) $$\n",
    "\n",
    "Où $p$ est la probabilité de deviner le mot de passe.\n",
    "\n",
    "#### 4.3.3 Exemple\n",
    "\n",
    "Soit le mot de passe suivant :\n",
    "\n",
    "$$ M = \"abracadabra\" $$\n",
    "$$ n = 11 $$\n",
    "$$ p*a = \\frac{5}{11} $$\n",
    "$$ p_b = \\frac{2}{11} $$\n",
    "$$ p_c = \\frac{1}{11} $$\n",
    "$$ p_d = \\frac{1}{11} $$\n",
    "$$ p_r = \\frac{2}{11} $$\n",
    "$$ p*{\\text{espace}} = \\frac{0}{11} $$\n",
    "$$ p\\_{\\text{autres}} = \\frac{0}{11} $$\n",
    "\n",
    "$$ C = \\log_2 \\left( \\frac{1}{p} \\right) $$\n",
    "$$ C = \\log_2 \\left( \\frac{1}{\\frac{5}{11}} \\right) $$\n",
    "$$ C = \\log_2 \\left( \\frac{11}{5} \\right) $$\n",
    "$$ C = \\log_2 \\left( 2.2 \\right) $$\n",
    "$$ C = 2.1375 $$\n",
    "$$ C = 2.1375 \\text{ bits} $$\n",
    "\n",
    "La complexité du mot de passe $M$ est de $2.1375$ bits."
   ]
  },
  {
   "cell_type": "code",
   "execution_count": null,
   "metadata": {},
   "outputs": [],
   "source": [
    "\"\"\"\n",
    "Complexity method\n",
    "\"\"\"\n",
    "def calculate_complexity(text):\n",
    "    total_chars = len(text)\n",
    "    char_counts = {}\n",
    "    for char in text:\n",
    "        char_counts[char] = char_counts.get(char, 0) + 1\n",
    "    complexity = len(char_counts) / total_chars\n",
    "    return complexity\n",
    "\n",
    "word = \"abracadabra\"\n",
    "complexity = calculate_complexity(word)\n",
    "print(\"Complexité pour '{}' : {}\".format(word, complexity))"
   ]
  },
  {
   "cell_type": "markdown",
   "metadata": {},
   "source": [
    "**Ordre de grandeur de la complexité**\n",
    "\n",
    "| Complexité | Exemple                                                                             |\n",
    "| ---------- | ----------------------------------------------------------------------------------- |\n",
    "| 0          | Mot de passe composé d'un seul symbole                                              |\n",
    "| 1          | Mot de passe composé de deux symboles ayant la même probabilité d'apparition        |\n",
    "| 2          | Mot de passe composé de quatre symboles ayant la même probabilité d'apparition      |\n",
    "| 3          | Mot de passe composé de huit symboles ayant la même probabilité d'apparition        |\n",
    "| 4          | Mot de passe composé de seize symboles ayant la même probabilité d'apparition       |\n",
    "| 5          | Mot de passe composé de trente-deux symboles ayant la même probabilité d'apparition |\n",
    "\n",
    "Donc notre mot de passe $M$ a une complexité de $2.1375$ bits, ce qui est relativement faible.\n",
    "\n",
    "## 5. Générateurs de nombres pseudo-aléatoires\n",
    "\n",
    "**Lexique :**\n",
    "\n",
    "- `PRNG` - Pseudo-Random-Number-Generator (_Générateur de nombres pseudos-aléatoires_)\n",
    "- `LGC` - Linear Congruential Generators (_Générateurs congruentiels linéaires_)\n",
    "\n",
    "### 5.1 Générateurs congruentiels linéaires\n",
    "\n",
    "#### 5.1.1 Définition\n",
    "\n",
    "Le générateur congruentiel linéaire est un des plus anciens générateurs de nombres pseudo-aléatoires mais pour autant très simple à comprendre; il est basé sur une suite récurrente linéaire définie par la relation de récurrence suivante :\n",
    "\n",
    "$$ X\\_{n+1} = (aX_n + c) \\mod m $$\n",
    "\n",
    "C'est à dire :\n",
    "\n",
    "- Multiplier le nombre précédent par un nombre $a$.\n",
    "- Ajouter un nombre $c$.\n",
    "- Prendre le reste de la division euclidienne par un nombre $m$."
   ]
  },
  {
   "cell_type": "code",
   "execution_count": null,
   "metadata": {},
   "outputs": [],
   "source": [
    "def lcg_lehman(seed, a = 3, c = 0, m = 2**8):\n",
    "    \"\"\"Lehman 1951 LCG generator\"\"\"\n",
    "    while True:\n",
    "        # multiply by 3 to get next value from previous\n",
    "        seed = (a * seed + c) % m\n",
    "        yield seed\n",
    "\n",
    "# seed generator with val: 1 and print first 100 values with a = 3, c = 0, m = 2**8 = 256 to get a 8-bit number\n",
    "lehman = lcg_lehman(1)\n",
    "print(', '.join([str(next(lehman)) for x in range(0, 100)]))"
   ]
  },
  {
   "cell_type": "markdown",
   "metadata": {},
   "source": [
    "Avec le LCG, on peut remarquer certains problèmes :\n",
    "\n",
    "- Tous les nombres sont impairs, nous ne touchons donc pas du tout uniformément tous les nombres (tout modèle observable étant l'antithèse du hasard).\n",
    "\n",
    "- La taille de l'échantillon est très limitée - on peut remarquer qu'on boucle sur les mêmes nombres.\n",
    "\n",
    "Tous ces problèmes sont issues des paramètres entrés dans le LCG. C'est ici qu'intervient sa version plus récente qu'est le LCG Drand48"
   ]
  },
  {
   "cell_type": "code",
   "execution_count": null,
   "metadata": {},
   "outputs": [],
   "source": [
    "def lcg_drand48(seed):\n",
    "    \"\"\"drand48 1983 LCG generator\"\"\"\n",
    "    while True:\n",
    "        # wrap int around to have max 48 bits\n",
    "        seed = (seed * 252149039917 + 11) & (2**48 - 1)\n",
    "        # don't output the seed but a function on it\n",
    "        yield seed >> 16"
   ]
  },
  {
   "cell_type": "markdown",
   "metadata": {},
   "source": [
    "Dans le `Drand48 LCG`, nous n'obtenons pas seulement le numéro suivant dans la séquence, ici nous décalons tous les bits de 16 places vers la droite, les 16 bits les plus à droite étant supprimés en conséquence.\n",
    "\n",
    "Exemple de shift de bits :\n",
    "\n",
    "```py\n",
    "# Si nous avons `1017 >> 3`\n",
    "    # 1017 = 11 1111 1001 en base 2\n",
    "    # Avec le shift de 3 bits vers la droite, nous obtenons : 111 1111\n",
    "    # qui représente 127 en base 10\n",
    "\n",
    "# Le shift de bits aide à avoir un générateur 16 bits avec une sortie de 8 bits\n",
    "```\n"
   ]
  }
 ],
 "metadata": {
  "kernelspec": {
   "display_name": "Python 3",
   "language": "python",
   "name": "python3"
  },
  "language_info": {
   "codemirror_mode": {
    "name": "ipython",
    "version": 3
   },
   "file_extension": ".py",
   "mimetype": "text/x-python",
   "name": "python",
   "nbconvert_exporter": "python",
   "pygments_lexer": "ipython3",
   "version": "3.10.12"
  }
 },
 "nbformat": 4,
 "nbformat_minor": 2
}
